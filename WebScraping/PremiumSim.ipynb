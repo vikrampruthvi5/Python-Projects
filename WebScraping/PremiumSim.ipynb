{
 "cells": [
  {
   "cell_type": "markdown",
   "metadata": {},
   "source": [
    "## Premium Sim web scraping for constant updates"
   ]
  },
  {
   "cell_type": "code",
   "execution_count": 69,
   "metadata": {},
   "outputs": [],
   "source": [
    "# imports\n",
    "from bs4 import BeautifulSoup as bs\n",
    "import requests\n",
    "from datetime import date\n",
    "import twilio\n",
    "from twilio.rest import Client\n",
    "import os\n",
    "\n",
    "# Define URL\n",
    "url = 'https://www.premiumsim.de/smartphone-tarife'\n",
    "response = requests.get(url, timeout=5)\n",
    "content = bs(response.content, \"html.parser\")"
   ]
  },
  {
   "cell_type": "code",
   "execution_count": 87,
   "metadata": {},
   "outputs": [],
   "source": [
    "def make_message():\n",
    "    i = 0\n",
    "    packages = []\n",
    "\n",
    "    # Div Class that holds all the tarif details individually\n",
    "    for line in content.find_all('div', attrs={'class' : 'cute-3-tablet e-tarifbox-list-tarifbox_column'}):\n",
    "        # Find price and internet volume for each package\n",
    "        price = str(line.find('span', attrs={\"class\": \"c-price-before_decimal\"}).text)+\".\"+str(line.find('span', attrs={\"class\": \"c-price-after_decimal\"}).text)\n",
    "        volume = line.find('span', attrs={'class' : 'e-tarifbox-details-internetVolume'}).text\n",
    "        packages.append(price + \" - \" + volume.strip())\n",
    "\n",
    "    # Daily updates\n",
    "    today_date = date.today()\n",
    "    posting_date = str(today_date.day)+\"/\"+str(today_date.month)+\"/\"+str(today_date.year)\n",
    "    message = posting_date + \"\\t\" + \"Premium sim tarifs\"\n",
    "    for i in packages:\n",
    "        x = i\n",
    "        message += \"\\n\"+i\n",
    "    \n",
    "    return message"
   ]
  },
  {
   "cell_type": "code",
   "execution_count": 88,
   "metadata": {},
   "outputs": [],
   "source": [
    "# Get message from function\n",
    "message = make_message()\n",
    "\n",
    "# Whatsapp Setup\n",
    "SID = 'ACaefcb6bd829afe20e16b0f5d531acf9c'\n",
    "Token = 'ac7f06f868f47c7b7331deae4ccf00b1'\n",
    "\n",
    "client = Client(SID, Token)\n",
    "\n",
    "from_whatsapp_no = 'whatsapp:+14155238886'\n",
    "phone_numbers = ['+918790721356']\n",
    "for i in range(len(phone_numbers)):\n",
    "    to_whatsapp_no = 'whatsapp:'+ phone_numbers[i]\n",
    "    client.messages.create(body=message, from_=from_whatsapp_no, to=to_whatsapp_no)"
   ]
  }
 ],
 "metadata": {
  "kernelspec": {
   "display_name": "Python 3",
   "language": "python",
   "name": "python3"
  },
  "language_info": {
   "codemirror_mode": {
    "name": "ipython",
    "version": 3
   },
   "file_extension": ".py",
   "mimetype": "text/x-python",
   "name": "python",
   "nbconvert_exporter": "python",
   "pygments_lexer": "ipython3",
   "version": "3.7.3"
  }
 },
 "nbformat": 4,
 "nbformat_minor": 2
}
