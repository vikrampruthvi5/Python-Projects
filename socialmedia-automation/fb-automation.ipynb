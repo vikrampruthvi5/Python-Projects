{
 "cells": [
  {
   "cell_type": "code",
   "execution_count": 43,
   "metadata": {},
   "outputs": [],
   "source": [
    "# Facebook Automation\n",
    "# Imports\n",
    "import requests\n",
    "import json\n",
    "import facebook"
   ]
  },
  {
   "cell_type": "code",
   "execution_count": 58,
   "metadata": {},
   "outputs": [],
   "source": [
    "#URLs\n",
    "me = r'https://graph.facebook.com/v4.0/me?access_token='\n",
    "\n",
    "def get_token(api_name=None):\n",
    "    if api_name==None:\n",
    "        return \"NO API FOUND / API NAME NOT PASSED\"\n",
    "    else:\n",
    "        #Key access\n",
    "        fileLocation = '../../keys.json'\n",
    "        with open(fileLocation) as f:\n",
    "            data = json.load(f)\n",
    "\n",
    "        for i in data['keys']:\n",
    "            if i['name'] == api_name:\n",
    "                return [i['token'], i['page_id']]"
   ]
  },
  {
   "cell_type": "code",
   "execution_count": 72,
   "metadata": {},
   "outputs": [],
   "source": [
    "restricted_data = get_token(api_name='facebook')\n",
    "cfg = {\n",
    "    \"page_id\"      : restricted_data[0],  # Step 1\n",
    "    \"access_token\" : restricted_data[1]   # Step 3\n",
    "    }\n",
    "api = facebook.GraphAPI(access_token=token)"
   ]
  },
  {
   "cell_type": "code",
   "execution_count": 73,
   "metadata": {},
   "outputs": [
    {
     "ename": "GraphAPIError",
     "evalue": "(#200) If posting to a group, requires app being installed in the group, and \\\n          either publish_to_groups permission with user token, or both manage_pages \\\n          and publish_pages permission with page token; If posting to a page, \\\n          requires both manage_pages and publish_pages as an admin with \\\n          sufficient administrative permission",
     "output_type": "error",
     "traceback": [
      "\u001b[0;31m---------------------------------------------------------------------------\u001b[0m",
      "\u001b[0;31mGraphAPIError\u001b[0m                             Traceback (most recent call last)",
      "\u001b[0;32m<ipython-input-73-7620663a15f9>\u001b[0m in \u001b[0;36m<module>\u001b[0;34m\u001b[0m\n\u001b[0;32m----> 1\u001b[0;31m \u001b[0mapi\u001b[0m\u001b[0;34m.\u001b[0m\u001b[0mput_object\u001b[0m\u001b[0;34m(\u001b[0m\u001b[0mparent_object\u001b[0m\u001b[0;34m=\u001b[0m\u001b[0;34m'me'\u001b[0m\u001b[0;34m,\u001b[0m \u001b[0mconnection_name\u001b[0m\u001b[0;34m=\u001b[0m\u001b[0;34m'feed'\u001b[0m\u001b[0;34m,\u001b[0m \u001b[0mmessage\u001b[0m\u001b[0;34m=\u001b[0m\u001b[0;34m'Hello World!!!... This is python posted message.'\u001b[0m\u001b[0;34m)\u001b[0m\u001b[0;34m\u001b[0m\u001b[0m\n\u001b[0m",
      "\u001b[0;32m~/Documents/GitHub/Python-Projects/socialmedia-automation/src/facebook-sdk/facebook/__init__.py\u001b[0m in \u001b[0;36mput_object\u001b[0;34m(self, parent_object, connection_name, **data)\u001b[0m\n\u001b[1;32m    190\u001b[0m             \u001b[0;34m\"{0}/{1}/{2}\"\u001b[0m\u001b[0;34m.\u001b[0m\u001b[0mformat\u001b[0m\u001b[0;34m(\u001b[0m\u001b[0mself\u001b[0m\u001b[0;34m.\u001b[0m\u001b[0mversion\u001b[0m\u001b[0;34m,\u001b[0m \u001b[0mparent_object\u001b[0m\u001b[0;34m,\u001b[0m \u001b[0mconnection_name\u001b[0m\u001b[0;34m)\u001b[0m\u001b[0;34m,\u001b[0m\u001b[0;34m\u001b[0m\u001b[0m\n\u001b[1;32m    191\u001b[0m             \u001b[0mpost_args\u001b[0m\u001b[0;34m=\u001b[0m\u001b[0mdata\u001b[0m\u001b[0;34m,\u001b[0m\u001b[0;34m\u001b[0m\u001b[0m\n\u001b[0;32m--> 192\u001b[0;31m             \u001b[0mmethod\u001b[0m\u001b[0;34m=\u001b[0m\u001b[0;34m\"POST\"\u001b[0m\u001b[0;34m,\u001b[0m\u001b[0;34m\u001b[0m\u001b[0m\n\u001b[0m\u001b[1;32m    193\u001b[0m         )\n\u001b[1;32m    194\u001b[0m \u001b[0;34m\u001b[0m\u001b[0m\n",
      "\u001b[0;32m~/Documents/GitHub/Python-Projects/socialmedia-automation/src/facebook-sdk/facebook/__init__.py\u001b[0m in \u001b[0;36mrequest\u001b[0;34m(self, path, args, post_args, files, method)\u001b[0m\n\u001b[1;32m    311\u001b[0m \u001b[0;34m\u001b[0m\u001b[0m\n\u001b[1;32m    312\u001b[0m         \u001b[0;32mif\u001b[0m \u001b[0mresult\u001b[0m \u001b[0;32mand\u001b[0m \u001b[0misinstance\u001b[0m\u001b[0;34m(\u001b[0m\u001b[0mresult\u001b[0m\u001b[0;34m,\u001b[0m \u001b[0mdict\u001b[0m\u001b[0;34m)\u001b[0m \u001b[0;32mand\u001b[0m \u001b[0mresult\u001b[0m\u001b[0;34m.\u001b[0m\u001b[0mget\u001b[0m\u001b[0;34m(\u001b[0m\u001b[0;34m\"error\"\u001b[0m\u001b[0;34m)\u001b[0m\u001b[0;34m:\u001b[0m\u001b[0;34m\u001b[0m\u001b[0m\n\u001b[0;32m--> 313\u001b[0;31m             \u001b[0;32mraise\u001b[0m \u001b[0mGraphAPIError\u001b[0m\u001b[0;34m(\u001b[0m\u001b[0mresult\u001b[0m\u001b[0;34m)\u001b[0m\u001b[0;34m\u001b[0m\u001b[0m\n\u001b[0m\u001b[1;32m    314\u001b[0m         \u001b[0;32mreturn\u001b[0m \u001b[0mresult\u001b[0m\u001b[0;34m\u001b[0m\u001b[0m\n\u001b[1;32m    315\u001b[0m \u001b[0;34m\u001b[0m\u001b[0m\n",
      "\u001b[0;31mGraphAPIError\u001b[0m: (#200) If posting to a group, requires app being installed in the group, and \\\n          either publish_to_groups permission with user token, or both manage_pages \\\n          and publish_pages permission with page token; If posting to a page, \\\n          requires both manage_pages and publish_pages as an admin with \\\n          sufficient administrative permission"
     ]
    }
   ],
   "source": [
    "api.put_object(parent_object='me', connection_name='feed', message='Hello World!!!... This is python posted message.')"
   ]
  },
  {
   "cell_type": "code",
   "execution_count": 65,
   "metadata": {},
   "outputs": [
    {
     "data": {
      "text/plain": [
       "<facebook.GraphAPI at 0x11261ba20>"
      ]
     },
     "execution_count": 65,
     "metadata": {},
     "output_type": "execute_result"
    }
   ],
   "source": [
    "# URLS\n",
    "me = 'https://graph.facebook.com/v4.0/me?access_token='+token\n",
    "feed = 'https://graph.facebook.com/v4.0/me/feed?access_token='+token\n",
    "facebook.GraphAPI(token)"
   ]
  },
  {
   "cell_type": "code",
   "execution_count": 38,
   "metadata": {},
   "outputs": [],
   "source": [
    "x = json.loads(requests.get(feed).text)"
   ]
  },
  {
   "cell_type": "code",
   "execution_count": 39,
   "metadata": {},
   "outputs": [
    {
     "data": {
      "text/plain": [
       "{'data': [{'message': 'Many many happy returns of the day my dear brother Dhirain Jain\\n\\nMany say that people come and go in life just like passing clouds. But I am sure, you are always more than a passing cloud to me and Samyuktha Dukkipati',\n",
       "   'created_time': '2019-07-29T22:29:24+0000',\n",
       "   'id': '1687862504690899_1683053298505153'},\n",
       "  {'created_time': '2019-07-28T18:51:47+0000',\n",
       "   'id': '1687862504690899_1682066745270475'},\n",
       "  {'created_time': '2019-07-28T18:50:32+0000',\n",
       "   'id': '1687862504690899_1682065991937217'},\n",
       "  {'message': 'Bond that no one can break...\\nRelation that no one can wreck...\\n\\nBhargav Ratakonda Siva Teja Srijitha Kurra\\n@bhushan Aditi Bandyopadhyay\\n\\nThanks for the beautiful relation...',\n",
       "   'created_time': '2019-07-01T21:22:45+0000',\n",
       "   'id': '1687862504690899_1659623604181456'},\n",
       "  {'created_time': '2019-06-24T09:39:18+0000',\n",
       "   'id': '1687862504690899_1652914861518997'},\n",
       "  {'message': 'Stunning moment that I recently enjoyed...',\n",
       "   'created_time': '2019-06-24T09:36:08+0000',\n",
       "   'id': '1687862504690899_1652912071519276'},\n",
       "  {'message': \"You r the best dad ever... Posting in facebook, calling you and saying happy father's day is not enough for everything you sacrificed for me.\\n\\nOne thing I can say always that I'll make you proud.\",\n",
       "   'created_time': '2019-06-16T17:17:31+0000',\n",
       "   'id': '1687862504690899_1646188992191584'},\n",
       "  {'message': 'Miss-communication is the culprit.\\nRead full story and see if you have ever faced these issues. \\n\\nLife is always beautiful to those who see its beaity',\n",
       "   'created_time': '2019-06-09T13:56:48+0000',\n",
       "   'id': '1687862504690899_1639769049500245'},\n",
       "  {'message': 'Join me in building your first Docker Container with simple steps. \\nHere is what I have covered in this post.\\n1. Install Docker engine.\\n2. Launch and Login to Docker\\n3. Pull required docker image from Docker hub Repo\\n4. Create a container (instance) of Docker image\\n5. Perform necessary actions on the container.\\n6. Stop and Start created containers.\\n\\nwww.learntolive.online',\n",
       "   'created_time': '2019-06-07T10:14:54+0000',\n",
       "   'id': '1687862504690899_1637903026353514'},\n",
       "  {'message': 'Kishore Pyla and Esukiran Varaprasad Gavara\\nThank you for letting me help.\\n\\nA small token of gratitude for what people gave  me to lead a happy life. Be thankful for what you have and make others be thankful for what you do. \\n\\n#saveALife #Thankful',\n",
       "   'created_time': '2019-05-08T13:50:21+0000',\n",
       "   'id': '1687862504690899_1613046252172525'},\n",
       "  {'message': \"If u think such things are real... They are.\\n\\nAll you have to do is understand and don't judge. Life is all about ups and downs and you don't know one's past and so don't judge.\\n\\nFriendship is something that is made in heaven after family. Friends can give you all you want provided you have the heart to receive it.\\n\\n#AgainstBullying #givingCourage #friendahip\\n#bestFamilyAfterFamily #ILoveYouFriends\",\n",
       "   'created_time': '2019-05-04T03:02:35+0000',\n",
       "   'id': '1687862504690899_1609687389175078'},\n",
       "  {'created_time': '2019-05-04T02:51:56+0000',\n",
       "   'id': '1687862504690899_1609682485842235'},\n",
       "  {'created_time': '2019-04-20T07:34:09+0000',\n",
       "   'id': '1687862504690899_1598999630243854'},\n",
       "  {'created_time': '2019-04-20T06:29:09+0000',\n",
       "   'id': '1687862504690899_1598966150247202'},\n",
       "  {'created_time': '2019-04-19T07:11:06+0000',\n",
       "   'id': '1687862504690899_1598235336986950'},\n",
       "  {'created_time': '2019-04-18T23:21:16+0000',\n",
       "   'id': '1687862504690899_1597981530345664'},\n",
       "  {'created_time': '2019-04-11T17:47:48+0000',\n",
       "   'id': '1687862504690899_1592547524222398'},\n",
       "  {'created_time': '2019-04-09T10:43:30+0000',\n",
       "   'id': '1687862504690899_1590799974397153'},\n",
       "  {'created_time': '2019-04-04T13:30:30+0000',\n",
       "   'id': '1687862504690899_1587143918096092'},\n",
       "  {'created_time': '2019-04-04T13:30:09+0000',\n",
       "   'id': '1687862504690899_1587143688096115'},\n",
       "  {'created_time': '2019-04-04T13:29:23+0000',\n",
       "   'id': '1687862504690899_1587143198096164'},\n",
       "  {'message': \"I feel proud for sharing this. If at least one use this I'll be more happier...\",\n",
       "   'created_time': '2019-03-26T16:53:07+0000',\n",
       "   'id': '1687862504690899_1580583658752118'},\n",
       "  {'created_time': '2019-03-26T07:40:58+0000',\n",
       "   'id': '1687862504690899_1580289342114883'},\n",
       "  {'message': \"1st impressions are very precious and will never ever leave you forever. Here are our's... #germany #frankfurt #peacefulMind\",\n",
       "   'created_time': '2019-03-23T13:32:45+0000',\n",
       "   'id': '1687862504690899_1578339802309837'},\n",
       "  {'message': 'Love for bikes... Italian engine lover',\n",
       "   'created_time': '2019-03-21T11:25:17+0000',\n",
       "   'id': '1687862504690899_1576831595793991'}],\n",
       " 'paging': {'previous': 'https://graph.facebook.com/v4.0/1687862504690899/feed?since=1564439364&access_token=EAAMEsjVS0oUBAE7U0iR609JIY8b29xNCunkEz9AHYlkpny4wbO8Ki70Li5s7YKPZBZB7tc41F7IJBshacXNjA6t16QlXG1uIprB8AGznoLEtu0ASwc8uRACckUTl69So1EZC7al7eQPkf4rI7ZBgUJXZAPTSyVoMSGtK5ThopBZAKVmI4w53ZBTQTg5Vp3ZC82edSS3uYD7p7gZDZD&limit=25&__paging_token=enc_AdDZCqfNyn1nQplZB2BX1OwDqlUjfOEpZCDEBsdtfL54Jf94gdJUSmcKCj1xitzQHQ0cXSBWoZAzCLOkX4UXpYxWdE0vH18Vk9USHsWjCCVfP0GZBHQZDZD&__previous=1',\n",
       "  'next': 'https://graph.facebook.com/v4.0/1687862504690899/feed?access_token=EAAMEsjVS0oUBAE7U0iR609JIY8b29xNCunkEz9AHYlkpny4wbO8Ki70Li5s7YKPZBZB7tc41F7IJBshacXNjA6t16QlXG1uIprB8AGznoLEtu0ASwc8uRACckUTl69So1EZC7al7eQPkf4rI7ZBgUJXZAPTSyVoMSGtK5ThopBZAKVmI4w53ZBTQTg5Vp3ZC82edSS3uYD7p7gZDZD&limit=25&until=1553167517&__paging_token=enc_AdAJew4IZBT0H87JR365ZACYINYTmZCkt63wL0CYJTJ1nmUSWBrrI6d58py5OpqO73skisRExERoYW3ZCaPd5g61My0eWaEZB39Ur5rsKxfGhD5aWDwZDZD'}}"
      ]
     },
     "execution_count": 39,
     "metadata": {},
     "output_type": "execute_result"
    }
   ],
   "source": [
    "x"
   ]
  },
  {
   "cell_type": "code",
   "execution_count": null,
   "metadata": {},
   "outputs": [],
   "source": []
  }
 ],
 "metadata": {
  "kernelspec": {
   "display_name": "Python 3",
   "language": "python",
   "name": "python3"
  },
  "language_info": {
   "codemirror_mode": {
    "name": "ipython",
    "version": 3
   },
   "file_extension": ".py",
   "mimetype": "text/x-python",
   "name": "python",
   "nbconvert_exporter": "python",
   "pygments_lexer": "ipython3",
   "version": "3.6.6"
  }
 },
 "nbformat": 4,
 "nbformat_minor": 2
}
